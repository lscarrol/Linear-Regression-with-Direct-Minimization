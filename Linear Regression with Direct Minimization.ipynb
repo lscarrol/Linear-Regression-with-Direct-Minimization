{
 "cells": [
  {
   "cell_type": "markdown",
   "metadata": {},
   "source": [
    "### Ordinary Least Square Learning"
   ]
  },
  {
   "cell_type": "code",
   "execution_count": null,
   "metadata": {},
   "outputs": [],
   "source": [
    "import numpy as np\n",
    "from scipy.optimize import minimize\n",
    "import matplotlib.pyplot as plt\n",
    "import pickle\n",
    "from sklearn.datasets import make_classification\n",
    "import pandas as pd\n",
    "\n",
    "# weight calc function using ordinary squares method\n",
    "def learnOLE(X,y):\n",
    "    N = X.shape[0]\n",
    "    d = X.shape[1]\n",
    "    w = np.zeros((d,1))\n",
    "    ymean = 0\n",
    "    xmean = np.zeros((d,1))\n",
    "    \n",
    "    for i in range(N):\n",
    "        ymean += y[i]\n",
    "        for j in range(d):\n",
    "            xmean[j] += X[i][j]\n",
    "    ymean = ymean / N\n",
    "    for i in range(d):\n",
    "        xmean[i] = xmean[i] / N\n",
    "        \n",
    "    a = np.zeros((d, 1))\n",
    "    w = np.zeros((d, 1))\n",
    "    num = 0\n",
    "    den = 1\n",
    "    for i in range(d):\n",
    "        for j in range(N):\n",
    "            num += (X[j][i] - xmean[i]) * (y[j] - ymean)\n",
    "            den += (X[j][i] - xmean[i])**2        \n",
    "        w[i] = num / den\n",
    "        a[i] = ymean - (w[i] * xmean[i])\n",
    "    \n",
    "    est = np.zeros((d, 1))\n",
    "    for i in range(d):\n",
    "        for j in range(N):\n",
    "            est[i] = a[i] + (w[i] * X[j, i])\n",
    "    return w\n"
   ]
  },
  {
   "cell_type": "markdown",
   "metadata": {},
   "source": [
    "### RMSE"
   ]
  },
  {
   "cell_type": "code",
   "execution_count": null,
   "metadata": {},
   "outputs": [],
   "source": [
    "# Root Mean Square Error\n",
    "def RMSE(w,X,y):\n",
    "    N = X.shape[0]\n",
    "    d = X.shape[1]\n",
    "    ymean = 0\n",
    "    xmean = np.zeros((d,1))\n",
    "    a = np.zeros((d, 1))\n",
    "    for i in range(N):\n",
    "        ymean += y[i]\n",
    "        for j in range(d):\n",
    "            xmean[j] += X[i][j]\n",
    "    ymean = ymean / N\n",
    "    for i in range(d):\n",
    "        xmean[i] = xmean[i] / N\n",
    "        a[i] = ymean - (w[i] * xmean[i])\n",
    "    \n",
    "    est = np.zeros((d, 1))\n",
    "    y2 = 0\n",
    "    for i in range(d):\n",
    "        for j in range(N):\n",
    "            est[i] = a[i] + (w[i] * X[j, i])\n",
    "        y2 += (est[i] - y[i])**2\n",
    "    y2 = y2 / d\n",
    "    rmse = np.sqrt(y2)\n",
    "    return rmse"
   ]
  },
  {
   "cell_type": "markdown",
   "metadata": {},
   "source": [
    "### Get Regression Line"
   ]
  },
  {
   "cell_type": "code",
   "execution_count": null,
   "metadata": {},
   "outputs": [],
   "source": [
    "def getLine(w,X,y):\n",
    "    N = X.shape[0]\n",
    "    d = X.shape[1]\n",
    "    ymean = 0\n",
    "    xmean = np.zeros((d,1))\n",
    "    a = np.zeros((d, 1))\n",
    "    for i in range(N):\n",
    "        ymean += y[i]\n",
    "        for j in range(d):\n",
    "            xmean[j] += X[i][j]\n",
    "    ymean = ymean / N\n",
    "    for i in range(d):\n",
    "        xmean[i] = xmean[i] / N\n",
    "        a[i] = ymean - (w[i] * xmean[i])\n",
    "    \n",
    "    est = np.zeros((d, 1))\n",
    "    y2 = 0\n",
    "    for i in range(d):\n",
    "        for j in range(N):\n",
    "            est[i] = a[i] + (w[i] * X[j, i])\n",
    "        y2 += (est[i] - y[i])**2\n",
    "    y2 = y2 / d\n",
    "    rmse = np.sqrt(y2)\n",
    "    return est"
   ]
  }
 ],
 "metadata": {
  "kernelspec": {
   "display_name": "Python 3",
   "language": "python",
   "name": "python3"
  },
  "language_info": {
   "codemirror_mode": {
    "name": "ipython",
    "version": 3
   },
   "file_extension": ".py",
   "mimetype": "text/x-python",
   "name": "python",
   "nbconvert_exporter": "python",
   "pygments_lexer": "ipython3",
   "version": "3.7.2"
  }
 },
 "nbformat": 4,
 "nbformat_minor": 2
}
